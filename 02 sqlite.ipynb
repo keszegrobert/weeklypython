{
 "cells": [
  {
   "cell_type": "markdown",
   "metadata": {},
   "source": [
    "## 2. feladat\n",
    "\n",
    "Térképen jelöljük ki a 29-es busz útvonalát!\n",
    "Az adatokat SQLite adatbázisból nyerjük ki!\n",
    "\n",
    "Adatbázis-kezelő: https://sqlitebrowser.org/\n",
    "\n",
    "Az adatok CSV formátumban letölthetőek innen: https://bkk.hu/apps/gtfs/\n",
    "\n",
    "Új tábla hozzáadása: File -> Import -> Table from CSV file"
   ]
  },
  {
   "cell_type": "markdown",
   "metadata": {},
   "source": [
    "## Hint\n",
    "\n",
    "Az SQLite adatbázishoz így kapcsolódunk, és nyerünk ki nekünk fontos adatokat a routes táblából:"
   ]
  },
  {
   "cell_type": "code",
   "execution_count": 1,
   "metadata": {},
   "outputs": [
    {
     "data": {
      "text/plain": [
       "{'agency_id': u'BKK',\n",
       " 'route_color': u'009FE3',\n",
       " 'route_desc': u'Szentl\\xe9lek t\\xe9r H / H\\u0171v\\xf6sv\\xf6lgy',\n",
       " 'route_id': u'0290',\n",
       " 'route_long_name': u'',\n",
       " 'route_short_name': u'29',\n",
       " 'route_text_color': u'FFFFFF',\n",
       " 'route_type': u'3'}"
      ]
     },
     "execution_count": 1,
     "metadata": {},
     "output_type": "execute_result"
    }
   ],
   "source": [
    "import sqlite3\n",
    "sqlite_file = 'bkk.db'\n",
    "conn = sqlite3.connect(sqlite_file)\n",
    "c = conn.cursor()\n",
    "\n",
    "res = c.execute('SELECT * FROM routes WHERE route_short_name=\"29\"')\n",
    "row = c.fetchone()\n",
    "names = [tuple[0] for tuple in res.description]\n",
    "route = dict(zip(names,row))\n",
    "route"
   ]
  },
  {
   "cell_type": "markdown",
   "metadata": {},
   "source": [
    "## Output\n",
    "\n",
    "Ilyen formában kéne az adatoknak generálódniuk:"
   ]
  },
  {
   "cell_type": "code",
   "execution_count": 2,
   "metadata": {
    "collapsed": true
   },
   "outputs": [],
   "source": [
    "bus_stops = [\n",
    "    {'location': (47.542635, 18.964753)},\n",
    "    {'location': (47.536127, 18.970568)},\n",
    "    {'location': (47.534574, 18.973997)},\n",
    "    {'location': (47.530852, 18.978252)},\n",
    "    {'location': (47.528371, 18.980938)},\n",
    "    {'location': (47.525837, 18.984168)},\n",
    "    {'location': (47.52226, 18.990825)},\n",
    "    {'location': (47.523548, 18.993187)},\n",
    "    {'location': (47.528352, 18.996317)},\n",
    "    {'location': (47.528471, 18.999995)},\n",
    "    {'location': (47.529117, 19.003624)},\n",
    "    {'location': (47.529779, 19.009078)},\n",
    "    {'location': (47.529393, 19.011163)},\n",
    "    {'location': (47.529311, 19.017049)},\n",
    "    {'location': (47.52855, 19.021629)},\n",
    "    {'location': (47.528721, 19.024165)},\n",
    "    {'location': (47.528227, 19.0271)},\n",
    "    {'location': (47.527562, 19.028415)},\n",
    "    {'location': (47.527131, 19.031417)},\n",
    "    {'location': (47.528039, 19.033422)},\n",
    "    {'location': (47.52759, 19.036729)},\n",
    "    {'location': (47.528586, 19.039001)},\n",
    "    {'location': (47.531833, 19.040023)},\n",
    "    {'location': (47.535152, 19.039969)},\n",
    "    {'location': (47.538723, 19.0405)},\n",
    "    {'location': (47.539919, 19.042014)},\n",
    "    {'location': (47.539095, 19.045373)},\n",
    "    {'location': (47.539949, 19.046781)}\n",
    "]"
   ]
  },
  {
   "cell_type": "markdown",
   "metadata": {},
   "source": [
    "## Ábrázolás a térképen\n",
    "\n",
    "gmaps nem működött megbízhatóan, \n",
    "vmi más megoldást kellett keresni:\n",
    "\n",
    "https://ipyleaflet.readthedocs.io/en/latest/\n",
    "\n",
    "Telepítés:\n",
    "\n",
    "```\n",
    "pip install ipyleaflet\n",
    "jupyter nbextension enable --py --sys-prefix ipyleaflet\n",
    "```"
   ]
  },
  {
   "cell_type": "code",
   "execution_count": 3,
   "metadata": {},
   "outputs": [
    {
     "data": {
      "application/vnd.jupyter.widget-view+json": {
       "model_id": "ca95c464e92d4529a1d0379a7adfc4a9",
       "version_major": 2,
       "version_minor": 0
      },
      "text/plain": [
       "A Jupyter Widget"
      ]
     },
     "metadata": {},
     "output_type": "display_data"
    }
   ],
   "source": [
    "from ipyleaflet import Marker\n",
    "from ipyleaflet import Map\n",
    "\n",
    "m = Map(center=(47.51, 19), zoom=12)\n",
    "for bus_stop in bus_stops:\n",
    "    marker = Marker(location=bus_stop[\"location\"], draggable=False)\n",
    "    m.add_layer(marker);\n",
    "\n",
    "m"
   ]
  },
  {
   "cell_type": "code",
   "execution_count": null,
   "metadata": {
    "collapsed": true
   },
   "outputs": [],
   "source": []
  }
 ],
 "metadata": {
  "kernelspec": {
   "display_name": "Python 3",
   "language": "python",
   "name": "python3"
  },
  "language_info": {
   "codemirror_mode": {
    "name": "ipython",
    "version": 2
   },
   "file_extension": ".py",
   "mimetype": "text/x-python",
   "name": "python",
   "nbconvert_exporter": "python",
   "pygments_lexer": "ipython2",
   "version": "2.7.14"
  }
 },
 "nbformat": 4,
 "nbformat_minor": 2
}
