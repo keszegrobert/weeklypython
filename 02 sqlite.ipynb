{
 "cells": [
  {
   "cell_type": "markdown",
   "metadata": {},
   "source": [
    "## 2. feladat\n",
    "\n",
    "Térképen jelöljük ki a 29-es busz útvonalát!\n",
    "Az adatokat SQLite adatbázisból nyerjük ki!\n",
    "\n",
    "Adatbázis-kezelő: https://sqlitebrowser.org/\n",
    "\n",
    "Az adatok CSV formátumban letölthetőek innen: https://bkk.hu/apps/gtfs/\n",
    "\n",
    "Új tábla hozzáadása: File -> Import -> Table from CSV file"
   ]
  },
  {
   "cell_type": "markdown",
   "metadata": {},
   "source": [
    "## Hint\n",
    "\n",
    "Az SQLite adatbázishoz így kapcsolódunk, és nyerünk ki nekünk fontos adatokat a routes táblából:"
   ]
  },
  {
   "cell_type": "code",
   "execution_count": 1,
   "metadata": {},
   "outputs": [
    {
     "data": {
      "text/plain": [
       "<sqlite3.Cursor at 0x10ab4f1f0>"
      ]
     },
     "execution_count": 1,
     "metadata": {},
     "output_type": "execute_result"
    }
   ],
   "source": [
    "import sqlite3\n",
    "sqlite_file = 'bkk.db'\n",
    "conn = sqlite3.connect(sqlite_file)\n",
    "c = conn.cursor()\n",
    "c"
   ]
  },
  {
   "cell_type": "markdown",
   "metadata": {},
   "source": [
    "a cursor objektum szolgáltatja nekünk a kapcsolatot a python kódunk és az adatbázis között"
   ]
  },
  {
   "cell_type": "markdown",
   "metadata": {},
   "source": [
    "SELECT utasításokon keresztül nyerhetünk ki az adatbázisból adatokat, itt pl. egy konkrét sort"
   ]
  },
  {
   "cell_type": "code",
   "execution_count": 2,
   "metadata": {},
   "outputs": [
    {
     "data": {
      "text/plain": [
       "(('agency_id', None, None, None, None, None, None),\n",
       " ('route_id', None, None, None, None, None, None),\n",
       " ('route_short_name', None, None, None, None, None, None),\n",
       " ('route_long_name', None, None, None, None, None, None),\n",
       " ('route_type', None, None, None, None, None, None),\n",
       " ('route_desc', None, None, None, None, None, None),\n",
       " ('route_color', None, None, None, None, None, None),\n",
       " ('route_text_color', None, None, None, None, None, None))"
      ]
     },
     "execution_count": 2,
     "metadata": {},
     "output_type": "execute_result"
    }
   ],
   "source": [
    "res = c.execute('SELECT * FROM routes WHERE route_short_name=\"29\"')\n",
    "res.description"
   ]
  },
  {
   "cell_type": "markdown",
   "metadata": {},
   "source": [
    "Egy SELECT utasítás eredménye sok mindent tartalmaz, például az adatbázis-tábla eredményhez tartozó oszlopainak neveit( a * miatt kapjuk meg mindet )"
   ]
  },
  {
   "cell_type": "markdown",
   "metadata": {},
   "source": [
    "... tuple típusú, ezért át kell alakítanunk listává ..."
   ]
  },
  {
   "cell_type": "code",
   "execution_count": 3,
   "metadata": {},
   "outputs": [
    {
     "data": {
      "text/plain": [
       "['agency_id',\n",
       " 'route_id',\n",
       " 'route_short_name',\n",
       " 'route_long_name',\n",
       " 'route_type',\n",
       " 'route_desc',\n",
       " 'route_color',\n",
       " 'route_text_color']"
      ]
     },
     "execution_count": 3,
     "metadata": {},
     "output_type": "execute_result"
    }
   ],
   "source": [
    "names = [tuple[0] for tuple in res.description]\n",
    "names"
   ]
  },
  {
   "cell_type": "markdown",
   "metadata": {},
   "source": [
    "Az adatbázis kurzora ilyenkor már a SELECT eredményének első elemén áll. Kiolvasunk egyet ..."
   ]
  },
  {
   "cell_type": "code",
   "execution_count": 4,
   "metadata": {},
   "outputs": [
    {
     "data": {
      "text/plain": [
       "(u'BKK',\n",
       " u'0290',\n",
       " u'29',\n",
       " u'',\n",
       " u'3',\n",
       " u'Szentl\\xe9lek t\\xe9r H / H\\u0171v\\xf6sv\\xf6lgy',\n",
       " u'009FE3',\n",
       " u'FFFFFF')"
      ]
     },
     "execution_count": 4,
     "metadata": {},
     "output_type": "execute_result"
    }
   ],
   "source": [
    "row = c.fetchone()\n",
    "row"
   ]
  },
  {
   "cell_type": "markdown",
   "metadata": {},
   "source": [
    "... ami szintén tuple típusú adat, de dolgozhatunk vele listaként is."
   ]
  },
  {
   "cell_type": "markdown",
   "metadata": {},
   "source": [
    "A zip nevű függvény képes arra, hogy összefűzze a nevek listáját az értékek listájával..."
   ]
  },
  {
   "cell_type": "code",
   "execution_count": 5,
   "metadata": {},
   "outputs": [
    {
     "data": {
      "text/plain": [
       "[('agency_id', u'BKK'),\n",
       " ('route_id', u'0290'),\n",
       " ('route_short_name', u'29'),\n",
       " ('route_long_name', u''),\n",
       " ('route_type', u'3'),\n",
       " ('route_desc', u'Szentl\\xe9lek t\\xe9r H / H\\u0171v\\xf6sv\\xf6lgy'),\n",
       " ('route_color', u'009FE3'),\n",
       " ('route_text_color', u'FFFFFF')]"
      ]
     },
     "execution_count": 5,
     "metadata": {},
     "output_type": "execute_result"
    }
   ],
   "source": [
    "zipped = zip(names,row)\n",
    "zipped"
   ]
  },
  {
   "cell_type": "markdown",
   "metadata": {},
   "source": [
    "... így kapunk egy tuple-kből álló listát."
   ]
  },
  {
   "cell_type": "markdown",
   "metadata": {},
   "source": [
    "A dict függvény a tuple-ök listájából dictionary-t csinál, vagyis név-érték párok tárolóját."
   ]
  },
  {
   "cell_type": "code",
   "execution_count": 6,
   "metadata": {},
   "outputs": [
    {
     "data": {
      "text/plain": [
       "{'agency_id': u'BKK',\n",
       " 'route_color': u'009FE3',\n",
       " 'route_desc': u'Szentl\\xe9lek t\\xe9r H / H\\u0171v\\xf6sv\\xf6lgy',\n",
       " 'route_id': u'0290',\n",
       " 'route_long_name': u'',\n",
       " 'route_short_name': u'29',\n",
       " 'route_text_color': u'FFFFFF',\n",
       " 'route_type': u'3'}"
      ]
     },
     "execution_count": 6,
     "metadata": {},
     "output_type": "execute_result"
    }
   ],
   "source": [
    "route = dict(zipped)\n",
    "route"
   ]
  },
  {
   "cell_type": "markdown",
   "metadata": {},
   "source": [
    "és most egyben az öt előző lépés:"
   ]
  },
  {
   "cell_type": "code",
   "execution_count": 7,
   "metadata": {},
   "outputs": [
    {
     "data": {
      "text/plain": [
       "{'agency_id': u'BKK',\n",
       " 'route_color': u'009FE3',\n",
       " 'route_desc': u'Szentl\\xe9lek t\\xe9r H / H\\u0171v\\xf6sv\\xf6lgy',\n",
       " 'route_id': u'0290',\n",
       " 'route_long_name': u'',\n",
       " 'route_short_name': u'29',\n",
       " 'route_text_color': u'FFFFFF',\n",
       " 'route_type': u'3'}"
      ]
     },
     "execution_count": 7,
     "metadata": {},
     "output_type": "execute_result"
    }
   ],
   "source": [
    "res = c.execute('SELECT * FROM routes WHERE route_short_name=\"29\"')\n",
    "names = [tuple[0] for tuple in res.description]\n",
    "row = c.fetchone()\n",
    "zipped = zip(names,row)\n",
    "route = dict(zipped)\n",
    "route"
   ]
  },
  {
   "cell_type": "markdown",
   "metadata": {},
   "source": [
    "## Output\n",
    "\n",
    "Ha mindent jól csináltatok, a bus_stops tartalmazza az állomások koordinátáinak listáját, valahogy így:"
   ]
  },
  {
   "cell_type": "code",
   "execution_count": 8,
   "metadata": {
    "collapsed": true
   },
   "outputs": [],
   "source": [
    "bus_stops = [\n",
    "    {'location': (47.542635, 18.964753)},\n",
    "    {'location': (47.536127, 18.970568)},\n",
    "    {'location': (47.534574, 18.973997)},\n",
    "    {'location': (47.530852, 18.978252)},\n",
    "    {'location': (47.528371, 18.980938)},\n",
    "    {'location': (47.525837, 18.984168)},\n",
    "    {'location': (47.52226, 18.990825)},\n",
    "    {'location': (47.523548, 18.993187)},\n",
    "    {'location': (47.528352, 18.996317)},\n",
    "    {'location': (47.528471, 18.999995)},\n",
    "    {'location': (47.529117, 19.003624)},\n",
    "    {'location': (47.529779, 19.009078)},\n",
    "    {'location': (47.529393, 19.011163)},\n",
    "    {'location': (47.529311, 19.017049)},\n",
    "    {'location': (47.52855, 19.021629)},\n",
    "    {'location': (47.528721, 19.024165)},\n",
    "    {'location': (47.528227, 19.0271)},\n",
    "    {'location': (47.527562, 19.028415)},\n",
    "    {'location': (47.527131, 19.031417)},\n",
    "    {'location': (47.528039, 19.033422)},\n",
    "    {'location': (47.52759, 19.036729)},\n",
    "    {'location': (47.528586, 19.039001)},\n",
    "    {'location': (47.531833, 19.040023)},\n",
    "    {'location': (47.535152, 19.039969)},\n",
    "    {'location': (47.538723, 19.0405)},\n",
    "    {'location': (47.539919, 19.042014)},\n",
    "    {'location': (47.539095, 19.045373)},\n",
    "    {'location': (47.539949, 19.046781)}\n",
    "]"
   ]
  },
  {
   "cell_type": "markdown",
   "metadata": {},
   "source": [
    "## Ábrázolás a térképen\n",
    "\n",
    "gmaps nem működött megbízhatóan, \n",
    "vmi más megoldást kellett keresni:\n",
    "\n",
    "https://ipyleaflet.readthedocs.io/en/latest/\n",
    "\n",
    "Telepítés:\n",
    "\n",
    "```\n",
    "pip install ipyleaflet\n",
    "jupyter nbextension enable --py --sys-prefix ipyleaflet\n",
    "```"
   ]
  },
  {
   "cell_type": "code",
   "execution_count": 9,
   "metadata": {},
   "outputs": [
    {
     "data": {
      "application/vnd.jupyter.widget-view+json": {
       "model_id": "30f763158e52414185cede376b73d1f1",
       "version_major": 2,
       "version_minor": 0
      },
      "text/plain": [
       "A Jupyter Widget"
      ]
     },
     "metadata": {},
     "output_type": "display_data"
    }
   ],
   "source": [
    "from ipyleaflet import Marker\n",
    "from ipyleaflet import Map\n",
    "\n",
    "m = Map(center=(47.51, 19), zoom=12)\n",
    "for bus_stop in bus_stops:\n",
    "    marker = Marker(location=bus_stop[\"location\"], draggable=False)\n",
    "    m.add_layer(marker);\n",
    "\n",
    "m"
   ]
  },
  {
   "cell_type": "markdown",
   "metadata": {
    "collapsed": true
   },
   "source": [
    "## Fun fact\n",
    "\n",
    "A True nem False soha"
   ]
  },
  {
   "cell_type": "code",
   "execution_count": 10,
   "metadata": {},
   "outputs": [
    {
     "name": "stdout",
     "output_type": "stream",
     "text": [
      "Minden OK, gond egy szál se :)\n"
     ]
    }
   ],
   "source": [
    "if True == False:\n",
    "    print(\"Valami nincs rendben ezzel a világgal :(\")\n",
    "else:\n",
    "    print(\"Minden OK, gond egy szál se :)\")"
   ]
  },
  {
   "cell_type": "markdown",
   "metadata": {},
   "source": [
    "De ha nagyon akarjuk, elronthatjuk:"
   ]
  },
  {
   "cell_type": "code",
   "execution_count": 11,
   "metadata": {
    "collapsed": true
   },
   "outputs": [],
   "source": [
    "True = False"
   ]
  },
  {
   "cell_type": "markdown",
   "metadata": {},
   "source": [
    "És akkor megszakad a tér idő kontinuum:"
   ]
  },
  {
   "cell_type": "code",
   "execution_count": 12,
   "metadata": {},
   "outputs": [
    {
     "name": "stdout",
     "output_type": "stream",
     "text": [
      "Valami nincs rendben ezzel a világgal :(\n"
     ]
    }
   ],
   "source": [
    "if True == False:\n",
    "    print(\"Valami nincs rendben ezzel a világgal :(\")\n",
    "else:\n",
    "    print(\"Minden OK, gond egy szál se :)\")"
   ]
  },
  {
   "cell_type": "markdown",
   "metadata": {},
   "source": [
    "... mert a True most már egy változó, aminek False az értéke."
   ]
  },
  {
   "cell_type": "markdown",
   "metadata": {},
   "source": [
    "Szerencsére az univerzum rendje mindig helyre állítható valahogy:"
   ]
  },
  {
   "cell_type": "code",
   "execution_count": 13,
   "metadata": {
    "collapsed": true
   },
   "outputs": [],
   "source": [
    "True = (42 == 42)"
   ]
  },
  {
   "cell_type": "code",
   "execution_count": 14,
   "metadata": {},
   "outputs": [
    {
     "name": "stdout",
     "output_type": "stream",
     "text": [
      "Minden OK, gond egy szál se :)\n"
     ]
    }
   ],
   "source": [
    "if True == False:\n",
    "    print(\"Valami nincs rendben ezzel a világgal :(\")\n",
    "else:\n",
    "    print(\"Minden OK, gond egy szál se :)\")"
   ]
  },
  {
   "cell_type": "markdown",
   "metadata": {},
   "source": [
    "Bővebben itt olvashattok ilyeneket:\n",
    "\n",
    "https://github.com/satwikkansal/wtfpython\n",
    "\n",
    "Nem elriasztani akartalak a pythontól, hanem szeretném, ha jobban megértenétek a belső működését."
   ]
  },
  {
   "cell_type": "code",
   "execution_count": null,
   "metadata": {
    "collapsed": true
   },
   "outputs": [],
   "source": []
  }
 ],
 "metadata": {
  "kernelspec": {
   "display_name": "Python 3",
   "language": "python",
   "name": "python3"
  },
  "language_info": {
   "codemirror_mode": {
    "name": "ipython",
    "version": 2
   },
   "file_extension": ".py",
   "mimetype": "text/x-python",
   "name": "python",
   "nbconvert_exporter": "python",
   "pygments_lexer": "ipython2",
   "version": "2.7.14"
  }
 },
 "nbformat": 4,
 "nbformat_minor": 2
}
