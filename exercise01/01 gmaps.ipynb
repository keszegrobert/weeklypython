{
 "cells": [
  {
   "cell_type": "markdown",
   "metadata": {},
   "source": [
    "## 1. feladat\n",
    "\n",
    "Google maps-en jelöljük ki a 29-es busz útvonalát!\n",
    "\n",
    "Adatok: https://bkk.hu/apps/gtfs/"
   ]
  },
  {
   "cell_type": "code",
   "execution_count": 1,
   "metadata": {
    "collapsed": true
   },
   "outputs": [],
   "source": [
    "import sys\n",
    "import zipfile\n",
    "path_to_zip_file = \"budapest_gtfs (1).zip\"\n",
    "directory_to_extract_to = './data'\n",
    "zip_ref = zipfile.ZipFile(path_to_zip_file, 'r')\n",
    "zip_ref.extractall(directory_to_extract_to)\n",
    "zip_ref.close()"
   ]
  },
  {
   "cell_type": "code",
   "execution_count": 2,
   "metadata": {},
   "outputs": [
    {
     "name": "stdout",
     "output_type": "stream",
     "text": [
      "total 488656\r\n",
      "drwxr-xr-x  11 macair  staff        352 Sep 27 06:03 \u001b[34m.\u001b[m\u001b[m\r\n",
      "drwxr-xr-x  13 macair  staff        416 Oct  1 23:17 \u001b[34m..\u001b[m\u001b[m\r\n",
      "-rw-r--r--   1 macair  staff        135 Oct  1 23:17 agency.txt\r\n",
      "-rw-r--r--@  1 macair  staff     238588 Oct  1 23:17 calendar_dates.txt\r\n",
      "-rw-r--r--   1 macair  staff        176 Oct  1 23:17 feed_info.txt\r\n",
      "-rw-r--r--   1 macair  staff      22885 Oct  1 23:17 pathways.txt\r\n",
      "-rw-r--r--   1 macair  staff      28056 Oct  1 23:17 routes.txt\r\n",
      "-rw-r--r--   1 macair  staff   13220475 Oct  1 23:17 shapes.txt\r\n",
      "-rw-r--r--   1 macair  staff  217061871 Oct  1 23:17 stop_times.txt\r\n",
      "-rw-r--r--   1 macair  staff     326826 Oct  1 23:17 stops.txt\r\n",
      "-rw-r--r--   1 macair  staff   19272508 Oct  1 23:17 trips.txt\r\n"
     ]
    }
   ],
   "source": [
    "!ls -al ./data"
   ]
  },
  {
   "cell_type": "code",
   "execution_count": 3,
   "metadata": {},
   "outputs": [
    {
     "name": "stdout",
     "output_type": "stream",
     "text": [
      "./data/agency.txt\n",
      "('Header:', 'agency_id,agency_name,agency_url,agency_timezone,agency_lang,agency_phone')\n",
      "('Sample:', 'BKK,BKK,http://www.bkk.hu,Europe/Budapest,hu,+36 1 3 255 255')\n",
      "\n",
      "./data/calendar_dates.txt\n",
      "('Header:', 'service_id,date,exception_type')\n",
      "('Sample:', 'B05716AHPKP-0011,20180828,1')\n",
      "\n",
      "./data/stop_times.txt\n",
      "('Header:', 'trip_id,stop_id,arrival_time,departure_time,stop_sequence,stop_headsign,pickup_type,drop_off_type,shape_dist_traveled')\n",
      "('Sample:', 'B0571610,F04181,08:03:00,08:03:00,0,,,,0.0')\n",
      "\n",
      "./data/shapes.txt\n",
      "('Header:', 'shape_id,shape_pt_sequence,shape_pt_lat,shape_pt_lon,shape_dist_traveled')\n",
      "('Sample:', '0803,100001,47.559670,19.082379,0.0')\n",
      "\n",
      "./data/trips.txt\n",
      "('Header:', 'route_id,trip_id,service_id,trip_headsign,direction_id,block_id,shape_id,wheelchair_accessible,bikes_allowed,boarding_door')\n",
      "('Sample:', '8140,B0571610,B05716AHPKP-0011,\"Soroks\\xc3\\xa1r, Moln\\xc3\\xa1r-sziget\",0,B05716AHPKP-0011_1,Y701,1,1,2')\n",
      "\n",
      "./data/feed_info.txt\n",
      "('Header:', 'feed_publisher_name,feed_publisher_url,feed_lang,feed_start_date,feed_end_date,feed_version,feed_ext_version')\n",
      "('Sample:', 'BKK Zrt.,http://www.bkk.hu,hu,20180829,20181001,L1187-20180829,153')\n",
      "\n",
      "./data/pathways.txt\n",
      "('Header:', 'pathway_id,pathway_type,from_stop_id,to_stop_id,traversal_time,wheelchair_traversal_time')\n",
      "('Sample:', 'LM4KF1-LM4KFA,3,LM4KF1,LM4KFA,30,-1')\n",
      "\n",
      "./data/stops.txt\n",
      "('Header:', 'stop_id,stop_name,stop_lat,stop_lon,stop_code,location_type,parent_station,wheelchair_boarding,stop_direction')\n",
      "('Sample:', '002133,\"\\xc3\\x96rs vez\\xc3\\xa9r tere M+H, d\\xc3\\xa9li t\\xc3\\xa1rol\\xc3\\xb3t\\xc3\\xa9r\",47.500366,19.135700,,,,2,')\n",
      "\n",
      "./data/routes.txt\n",
      "('Header:', 'agency_id,route_id,route_short_name,route_long_name,route_type,route_desc,route_color,route_text_color')\n",
      "('Sample:', 'BKK,0050,5,,3,\"Pasar\\xc3\\xa9ti t\\xc3\\xa9r / R\\xc3\\xa1kospalota, Kossuth utca\",009FE3,FFFFFF')\n",
      "\n"
     ]
    }
   ],
   "source": [
    "import json\n",
    "import os\n",
    "\n",
    "for fname in os.listdir(\"./data\"):\n",
    "    filename = './data/'+fname\n",
    "    with open(filename) as f:\n",
    "        print(filename)\n",
    "        print(\"Header:\",f.readline().strip())\n",
    "        print(\"Sample:\",f.readline().strip())\n",
    "        print(\"\")"
   ]
  },
  {
   "cell_type": "markdown",
   "metadata": {},
   "source": [
    "### Beolvasás\n",
    "\n",
    "A csv modul DictReader-ével tudunk soronként végigmenni a csv fájlokon, és dictionary-ként kezelni az egyes sorokat.\n",
    "\n",
    "Gábor rájött, hogy a 29-es busz adatait a routes.txt-ben kell keresnünk:"
   ]
  },
  {
   "cell_type": "code",
   "execution_count": 4,
   "metadata": {},
   "outputs": [
    {
     "name": "stdout",
     "output_type": "stream",
     "text": [
      "{\n",
      " \"route_long_name\": \"\", \n",
      " \"route_type\": \"3\", \n",
      " \"route_text_color\": \"FFFFFF\", \n",
      " \"agency_id\": \"BKK\", \n",
      " \"route_id\": \"0290\", \n",
      " \"route_color\": \"009FE3\", \n",
      " \"route_desc\": \"Szentl\\u00e9lek t\\u00e9r H / H\\u0171v\\u00f6sv\\u00f6lgy\", \n",
      " \"route_short_name\": \"29\"\n",
      "}\n"
     ]
    }
   ],
   "source": [
    "import csv\n",
    "import json\n",
    "with open('./data/routes.txt') as f:\n",
    "    csvreader = csv.DictReader(f, delimiter=',', quotechar='\"')\n",
    "    for row in csvreader:\n",
    "        if row['route_short_name'] == '29':\n",
    "            print(json.dumps(row, indent=True))"
   ]
  },
  {
   "cell_type": "markdown",
   "metadata": {},
   "source": [
    "Csináljunk rá egy függvényt, és hívjuk meg! Ha mindent jól csináltunk, ugyanaz lesz a végeredmény, mint feljebb:"
   ]
  },
  {
   "cell_type": "code",
   "execution_count": 5,
   "metadata": {},
   "outputs": [
    {
     "data": {
      "text/plain": [
       "{'agency_id': 'BKK',\n",
       " 'route_color': '009FE3',\n",
       " 'route_desc': 'Szentl\\xc3\\xa9lek t\\xc3\\xa9r H / H\\xc5\\xb1v\\xc3\\xb6sv\\xc3\\xb6lgy',\n",
       " 'route_id': '0290',\n",
       " 'route_long_name': '',\n",
       " 'route_short_name': '29',\n",
       " 'route_text_color': 'FFFFFF',\n",
       " 'route_type': '3'}"
      ]
     },
     "execution_count": 5,
     "metadata": {},
     "output_type": "execute_result"
    }
   ],
   "source": [
    "def get_data_from(filename, column, value):\n",
    "    with open(filename) as f:\n",
    "        csvreader = csv.DictReader(f, delimiter=',', quotechar='\"')\n",
    "        for row in csvreader:\n",
    "            if row[column] == value:\n",
    "                return row\n",
    "\n",
    "route = get_data_from('./data/routes.txt', 'route_short_name', '29')\n",
    "route"
   ]
  },
  {
   "cell_type": "markdown",
   "metadata": {},
   "source": [
    "Akár több adatot is kinyerhetünk, ha tudjuk, hogy mi a közös bennük:"
   ]
  },
  {
   "cell_type": "code",
   "execution_count": 6,
   "metadata": {
    "collapsed": true
   },
   "outputs": [],
   "source": [
    "def get_list_from(filename, column, value):\n",
    "    result = []\n",
    "    with open(filename) as f:\n",
    "        csvreader = csv.DictReader(f, delimiter=',', quotechar='\"')\n",
    "        for row in csvreader:\n",
    "            if row[column] == value:\n",
    "                result.append(row)\n",
    "    return result"
   ]
  },
  {
   "cell_type": "markdown",
   "metadata": {},
   "source": [
    "András rájött, hogy a következő fájl, amiből adatokat kéne olvasnunk, az a trips.txt, mivel a route_id-t ő is tartalmazza, így valószínűleg van összeköttetés a két fájl között a route_id formájában. A fenti eredményünkből kiderül, hogy 29-es buszhoz tartozó route_id az a \"0290\""
   ]
  },
  {
   "cell_type": "code",
   "execution_count": 7,
   "metadata": {},
   "outputs": [
    {
     "data": {
      "text/plain": [
       "[{'bikes_allowed': '2',\n",
       "  'block_id': 'B74501ASZLB-0021_2',\n",
       "  'boarding_door': '1',\n",
       "  'direction_id': '1',\n",
       "  'route_id': '0290',\n",
       "  'service_id': 'B74501ASZLB-0021',\n",
       "  'shape_id': 'U006',\n",
       "  'trip_headsign': 'Szentl\\xc3\\xa9lek t\\xc3\\xa9r H',\n",
       "  'trip_id': 'B7450110',\n",
       "  'wheelchair_accessible': '1'},\n",
       " {'bikes_allowed': '2',\n",
       "  'block_id': 'B74501ASZLB-0021_4',\n",
       "  'boarding_door': '1',\n",
       "  'direction_id': '1',\n",
       "  'route_id': '0290',\n",
       "  'service_id': 'B74501ASZLB-0021',\n",
       "  'shape_id': 'U006',\n",
       "  'trip_headsign': 'Szentl\\xc3\\xa9lek t\\xc3\\xa9r H',\n",
       "  'trip_id': 'B74501100',\n",
       "  'wheelchair_accessible': '1'},\n",
       " {'bikes_allowed': '2',\n",
       "  'block_id': 'B74501ASZLB-0021_5',\n",
       "  'boarding_door': '1',\n",
       "  'direction_id': '0',\n",
       "  'route_id': '0290',\n",
       "  'service_id': 'B74501ASZLB-0021',\n",
       "  'shape_id': 'U277',\n",
       "  'trip_headsign': 'H\\xc5\\xb1v\\xc3\\xb6sv\\xc3\\xb6lgy',\n",
       "  'trip_id': 'B74501101',\n",
       "  'wheelchair_accessible': '1'}]"
      ]
     },
     "execution_count": 7,
     "metadata": {},
     "output_type": "execute_result"
    }
   ],
   "source": [
    "trips = get_list_from('./data/trips.txt', 'route_id', route['route_id'])\n",
    "trips[0:3]"
   ]
  },
  {
   "cell_type": "markdown",
   "metadata": {},
   "source": [
    "András rájött arra is, hogy a trip_id nevű oszlop létezik a stop_times.txt-ben is, valamint, hogy a stop_times.txt és a stops.txt összeköttetésben van a stop_id által. Így már könnyű lesz kiolvasni a stops.txt-ből a stop_lat és stop_lon értékeket egy adott megállóhoz, és kirajzolni a térképre:"
   ]
  },
  {
   "cell_type": "code",
   "execution_count": 8,
   "metadata": {
    "collapsed": true
   },
   "outputs": [],
   "source": [
    "route = get_data_from('./data/routes.txt', 'route_short_name', '29')\n",
    "#ide jöhet a többi kód"
   ]
  },
  {
   "cell_type": "markdown",
   "metadata": {},
   "source": [
    "### Output\n",
    "\n",
    "Ilyen formában kéne az adatoknak generálódniuk:"
   ]
  },
  {
   "cell_type": "code",
   "execution_count": 9,
   "metadata": {
    "collapsed": true
   },
   "outputs": [],
   "source": [
    "bus_stops = [\n",
    "    {'location': (47.542635, 18.964753)},\n",
    "    {'location': (47.536127, 18.970568)},\n",
    "    {'location': (47.534574, 18.973997)},\n",
    "    {'location': (47.530852, 18.978252)},\n",
    "    {'location': (47.528371, 18.980938)},\n",
    "    {'location': (47.525837, 18.984168)},\n",
    "    {'location': (47.52226, 18.990825)},\n",
    "    {'location': (47.523548, 18.993187)},\n",
    "    {'location': (47.528352, 18.996317)},\n",
    "    {'location': (47.528471, 18.999995)},\n",
    "    {'location': (47.529117, 19.003624)},\n",
    "    {'location': (47.529779, 19.009078)},\n",
    "    {'location': (47.529393, 19.011163)},\n",
    "    {'location': (47.529311, 19.017049)},\n",
    "    {'location': (47.52855, 19.021629)},\n",
    "    {'location': (47.528721, 19.024165)},\n",
    "    {'location': (47.528227, 19.0271)},\n",
    "    {'location': (47.527562, 19.028415)},\n",
    "    {'location': (47.527131, 19.031417)},\n",
    "    {'location': (47.528039, 19.033422)},\n",
    "    {'location': (47.52759, 19.036729)},\n",
    "    {'location': (47.528586, 19.039001)},\n",
    "    {'location': (47.531833, 19.040023)},\n",
    "    {'location': (47.535152, 19.039969)},\n",
    "    {'location': (47.538723, 19.0405)},\n",
    "    {'location': (47.539919, 19.042014)},\n",
    "    {'location': (47.539095, 19.045373)},\n",
    "    {'location': (47.539949, 19.046781)}\n",
    "]"
   ]
  },
  {
   "cell_type": "markdown",
   "metadata": {},
   "source": [
    "## Ábrázolás a térképen\n",
    "\n",
    "gmaps nem működött megbízhatóan, \n",
    "vmi más megoldást kellett keresni:\n",
    "\n",
    "https://ipyleaflet.readthedocs.io/en/latest/\n",
    "\n",
    "Telepítés:\n",
    "\n",
    "```\n",
    "pip install ipyleaflet\n",
    "jupyter nbextension enable --py --sys-prefix ipyleaflet\n",
    "```"
   ]
  },
  {
   "cell_type": "code",
   "execution_count": 10,
   "metadata": {},
   "outputs": [
    {
     "data": {
      "application/vnd.jupyter.widget-view+json": {
       "model_id": "1ecd63536a4848618e87dd2e50c34bca",
       "version_major": 2,
       "version_minor": 0
      },
      "text/plain": [
       "A Jupyter Widget"
      ]
     },
     "metadata": {},
     "output_type": "display_data"
    }
   ],
   "source": [
    "from ipyleaflet import Marker\n",
    "from ipyleaflet import Map\n",
    "\n",
    "m = Map(center=(47.51, 19), zoom=12)\n",
    "for bus_stop in bus_stops:\n",
    "    marker = Marker(location=bus_stop[\"location\"], draggable=False)\n",
    "    m.add_layer(marker);\n",
    "\n",
    "m"
   ]
  },
  {
   "cell_type": "markdown",
   "metadata": {
    "collapsed": true
   },
   "source": [
    "De vajon a \"9\"-es busz az merre jár? Tudnál egy függvényt írni, amit ha meghívsz, bármilyen járathoz megkeresi a megállóinak a pozícióját?"
   ]
  },
  {
   "cell_type": "code",
   "execution_count": null,
   "metadata": {
    "collapsed": true
   },
   "outputs": [],
   "source": []
  }
 ],
 "metadata": {
  "kernelspec": {
   "display_name": "Python 3",
   "language": "python",
   "name": "python3"
  },
  "language_info": {
   "codemirror_mode": {
    "name": "ipython",
    "version": 2
   },
   "file_extension": ".py",
   "mimetype": "text/x-python",
   "name": "python",
   "nbconvert_exporter": "python",
   "pygments_lexer": "ipython2",
   "version": "2.7.14"
  }
 },
 "nbformat": 4,
 "nbformat_minor": 2
}
