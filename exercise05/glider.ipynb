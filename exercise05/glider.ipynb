{
 "cells": [
  {
   "cell_type": "markdown",
   "metadata": {},
   "source": [
    "## Qt alkalmazások készítése\n",
    "![Alkalmazás](glider.png)"
   ]
  },
  {
   "cell_type": "markdown",
   "metadata": {},
   "source": [
    "## Qt install\n",
    "\n",
    "Ehhez a leckéhez már fontos, hogy mindenkinek python3 legyen a gépén\n",
    "\n",
    "https://www.qt.io/download\n",
    "\n",
    "## Minimal demo"
   ]
  },
  {
   "cell_type": "code",
   "execution_count": null,
   "metadata": {},
   "outputs": [],
   "source": [
    "import sys\n",
    "from PyQt5.QtWidgets import QApplication\n",
    "\n",
    "\n",
    "def main():\n",
    "    app = QApplication(sys.argv)\n",
    "    sys.exit(app.exec_())\n",
    "\n",
    "\n",
    "if __name__ == '__main__':\n",
    "    main()\n"
   ]
  },
  {
   "cell_type": "markdown",
   "metadata": {},
   "source": [
    "## Ablak"
   ]
  },
  {
   "cell_type": "code",
   "execution_count": null,
   "metadata": {},
   "outputs": [],
   "source": [
    "from PyQt5.QtWidgets import QApplication, QWidget\n",
    "\n",
    "# ...\n",
    "\n",
    "w = QWidget()\n",
    "w.show()\n"
   ]
  },
  {
   "cell_type": "markdown",
   "metadata": {},
   "source": [
    "Beállítjuk az ablak nevét"
   ]
  },
  {
   "cell_type": "code",
   "execution_count": null,
   "metadata": {},
   "outputs": [],
   "source": [
    "w.setWindowTitle(\"Game of Life\")"
   ]
  },
  {
   "cell_type": "markdown",
   "metadata": {},
   "source": [
    "Beállítjuk az ablak méretét"
   ]
  },
  {
   "cell_type": "code",
   "execution_count": null,
   "metadata": {},
   "outputs": [],
   "source": [
    "w.resize(400, 400) "
   ]
  },
  {
   "cell_type": "markdown",
   "metadata": {},
   "source": [
    "Beállítjuk az ablak pozícióját"
   ]
  },
  {
   "cell_type": "code",
   "execution_count": null,
   "metadata": {},
   "outputs": [],
   "source": [
    "w.move(0, 0)"
   ]
  },
  {
   "cell_type": "markdown",
   "metadata": {},
   "source": [
    "További infók a QWidgetről:\n",
    "http://doc.qt.io/qt-5/qwidget.html"
   ]
  },
  {
   "cell_type": "markdown",
   "metadata": {},
   "source": [
    "## Saját QWidget\n",
    "Ahhoz fog kelleni, hogy rajzolhassunk az ablakra"
   ]
  },
  {
   "cell_type": "code",
   "execution_count": null,
   "metadata": {},
   "outputs": [],
   "source": [
    "from PyQt5.QtWidgets import QApplication, QWidget\n",
    "\n",
    "class GameOfLifeWidget(QWidget):\n",
    "    pass\n",
    "\n",
    "def main():\n",
    "    app = QApplication(sys.argv)\n",
    "    w = GameOfLifeWidget()\n",
    "    sys.exit(app.exec_())\n"
   ]
  },
  {
   "cell_type": "markdown",
   "metadata": {},
   "source": [
    "## Rajzolás"
   ]
  },
  {
   "cell_type": "code",
   "execution_count": null,
   "metadata": {},
   "outputs": [],
   "source": [
    "from PyQt5.QtGui import QPainter\n",
    "\n",
    "class GameOfLifeWidget(QWidget):\n",
    "    def paintEvent(self, e):\n",
    "        qp = QPainter()\n",
    "        qp.begin(self)\n",
    "        # draw something\n",
    "        qp.end()\n"
   ]
  },
  {
   "cell_type": "markdown",
   "metadata": {},
   "source": [
    "FELADAT: mindig kíirni egy counter értékét, hogy lássuk, mikor van meghíva"
   ]
  },
  {
   "cell_type": "markdown",
   "metadata": {},
   "source": [
    "## Vonalak rajzolása"
   ]
  },
  {
   "cell_type": "code",
   "execution_count": null,
   "metadata": {},
   "outputs": [],
   "source": [
    "from PyQt5.QtGui import QPainter, QPen\n",
    "from PyQt5.QtCore import Qt, QPoint\n",
    "\n",
    "class GameOfLifeWidget(QWidget):\n",
    "    def paintEvent(self, e):\n",
    "        qp = QPainter()\n",
    "        qp.begin(self)\n",
    "        pen = QPen(Qt.gray, 2)\n",
    "        qp.setPen(pen)\n",
    "        for x in range(21):\n",
    "            qp.drawLine(QPoint(x * 20, 0), QPoint(x * 20, 400))\n",
    "        for y in range(21):\n",
    "            qp.drawLine(QPoint(0, y * 20), QPoint(400, y * 20))\n",
    "        qp.end()\n",
    "\n",
    "# ..."
   ]
  },
  {
   "cell_type": "markdown",
   "metadata": {},
   "source": [
    "## Téglalap"
   ]
  },
  {
   "cell_type": "code",
   "execution_count": null,
   "metadata": {},
   "outputs": [],
   "source": [
    "from PyQt5.QtGui import QPainter, QBrush, QColor\n",
    "from PyQt5.QtCore import Qt, QRect\n",
    "\n",
    "class GameOfLifeWidget(QWidget):\n",
    "    def paintEvent(self, e):\n",
    "\n",
    "        qp = QPainter()\n",
    "        qp.begin(self)\n",
    "        brush = QBrush(Qt.SolidPattern)\n",
    "        brush.setColor(QColor(0, 0, 0))\n",
    "        qp.setBrush(brush)\n",
    "        qp.drawRect(QRect(0, 0, 400, 400))\n",
    "        qp.end()\n",
    "\n",
    "# ..."
   ]
  },
  {
   "cell_type": "markdown",
   "metadata": {},
   "source": [
    "## Sakktábla kirajzolása"
   ]
  },
  {
   "cell_type": "code",
   "execution_count": null,
   "metadata": {},
   "outputs": [],
   "source": [
    "from PyQt5.QtWidgets import QApplication, QWidget\n",
    "from PyQt5.QtGui import QPainter, QBrush, QColor\n",
    "from PyQt5.QtCore import Qt, QRect\n",
    "\n",
    "class GameOfLifeWidget(QWidget):\n",
    "\n",
    "    def paintEvent(self, e):\n",
    "        qp = QPainter()\n",
    "        qp.begin(self)\n",
    "\n",
    "        brush = QBrush(Qt.SolidPattern)\n",
    "        brush.setColor(QColor(0, 0, 0))\n",
    "        qp.setBrush(brush)\n",
    "        qp.drawRect(QRect(0, 0, 400, 400))\n",
    "\n",
    "        brush.setColor(QColor(255,255,255))\n",
    "        qp.setBrush(brush)\n",
    "        for x in range(20):\n",
    "            for y in range(20):\n",
    "                if (x + y) % 2 == 0:\n",
    "                    qp.drawRect(QRect(x * 20 + 1, y * 20 + 1, 18, 18))\n",
    "\n",
    "        qp.end()\n"
   ]
  },
  {
   "cell_type": "markdown",
   "metadata": {},
   "source": [
    "További infók a rajzolással kapcsolatban: http://doc.qt.io/qt-5/qpainter.html"
   ]
  },
  {
   "cell_type": "markdown",
   "metadata": {},
   "source": [
    "## Sejtek beolvasása szöveges fájlból"
   ]
  },
  {
   "cell_type": "code",
   "execution_count": null,
   "metadata": {},
   "outputs": [],
   "source": [
    "def cell_read(file_name):\n",
    "    lines = []\n",
    "    try:\n",
    "        with open(file_name, \"r\") as file:\n",
    "            lines = file.readlines()\n",
    "    except FileNotFoundError:\n",
    "        pass\n",
    "\n",
    "    cells = []\n",
    "    y = 0\n",
    "    for line in lines:\n",
    "        x = 0\n",
    "        for cell in line.split():\n",
    "            if cell == '1':\n",
    "                cells.append((x, y))\n",
    "            x += 1\n",
    "        y += 1\n",
    "    return cells"
   ]
  },
  {
   "cell_type": "markdown",
   "metadata": {},
   "source": [
    "## Sejtek átadása a widgetünknek\n",
    "\n",
    "Át kell írnunk a widgetünk konstruktorát. Ha az eredeti működést szeretnénk lemásolni, valami ilyesmit kapunk:"
   ]
  },
  {
   "cell_type": "code",
   "execution_count": null,
   "metadata": {},
   "outputs": [],
   "source": [
    "class GameOfLifeWidget(QWidget):\n",
    "    def __init__(self):\n",
    "        super(QWidget, self).__init__()"
   ]
  },
  {
   "cell_type": "markdown",
   "metadata": {},
   "source": [
    "Ezt fogjuk egy kicsit kibővíteni:"
   ]
  },
  {
   "cell_type": "code",
   "execution_count": null,
   "metadata": {},
   "outputs": [],
   "source": [
    "class GameOfLifeWidget(QWidget):\n",
    "    def __init__(self, cells):\n",
    "        super(QWidget, self).__init__()\n",
    "        self.cells = cells"
   ]
  },
  {
   "cell_type": "markdown",
   "metadata": {},
   "source": [
    "és a megfelelő helyen, az inicializáláskor átadjuk a sejteket"
   ]
  },
  {
   "cell_type": "code",
   "execution_count": null,
   "metadata": {},
   "outputs": [],
   "source": [
    "def main():\n",
    "    cells = cell_read(\"glider.txt\")\n",
    "    w = GameOfLifeWidget(cells)\n",
    "    # ..."
   ]
  },
  {
   "cell_type": "markdown",
   "metadata": {},
   "source": [
    "...és kirajzoljuk őket:"
   ]
  },
  {
   "cell_type": "code",
   "execution_count": null,
   "metadata": {},
   "outputs": [],
   "source": [
    "class GameOfLifeWidget(QWidget):\n",
    "    def paintEvent(self, e):\n",
    "        qp = QPainter()\n",
    "        qp.begin(self)\n",
    "\n",
    "        brush = QBrush(Qt.SolidPattern)\n",
    "        brush.setColor(QColor(0, 0, 0))\n",
    "        qp.setBrush(brush)\n",
    "        qp.drawRect(QRect(0, 0, 400, 400))\n",
    "\n",
    "        for x in range(20):\n",
    "            for y in range(20):\n",
    "                g = (255 if (x, y) in self.cells else 0)\n",
    "                brush.setColor(QColor(g, g, g))\n",
    "                qp.setBrush(brush)\n",
    "                qp.drawRect(QRect(x * 20 + 1, y * 20 + 1, 18, 18))\n",
    "\n",
    "        pen = QPen(Qt.gray, 2)\n",
    "        qp.setPen(pen)\n",
    "        for x in range(21):\n",
    "            qp.drawLine(QPoint(x * 20, 0), QPoint(x * 20, 400))\n",
    "        for y in range(21):\n",
    "            qp.drawLine(QPoint(0, y * 20), QPoint(400, y * 20))\n",
    "        qp.end()\n"
   ]
  },
  {
   "cell_type": "markdown",
   "metadata": {},
   "source": [
    "HÁZI FELADAT: Utánanézni, hogyan lehet png-ket kirajzolni, vagy valahogy szebbé tenni a kinézetét a sejteknek."
   ]
  },
  {
   "cell_type": "markdown",
   "metadata": {},
   "source": [
    "## Gomb az interakciókhoz\n",
    "Az alábbi módszerrel adunk hozzá az ablakunkhoz egy gombot"
   ]
  },
  {
   "cell_type": "code",
   "execution_count": null,
   "metadata": {},
   "outputs": [],
   "source": [
    "from PyQt5.QtWidgets import QApplication, QWidget, QPushButton\n",
    "\n",
    "class GameOfLifeWidget(QWidget):\n",
    "    def __init__(self, cells):\n",
    "\n",
    "        # ...\n",
    "\n",
    "        self.stepbutton = QPushButton('Step', self)\n",
    "        self.stepbutton.clicked.connect(self.takeOneStep)\n",
    "        self.stepbutton.resize(100, 50)\n",
    "        self.stepbutton.move(300, 0)"
   ]
  },
  {
   "cell_type": "markdown",
   "metadata": {},
   "source": [
    "Ezután meg kell mondanunk, hogy a takeOneStep függvényben mit csináljon"
   ]
  },
  {
   "cell_type": "code",
   "execution_count": null,
   "metadata": {},
   "outputs": [],
   "source": [
    "from conway import GameOfLife\n",
    "\n",
    "class GameOfLifeWidget(QWidget):\n",
    "    \n",
    "    # ...\n",
    "\n",
    "    def takeOneStep(self):\n",
    "        gol = GameOfLife()\n",
    "        self.cells = gol.evolve(self.cells)\n",
    "        self.update()"
   ]
  },
  {
   "cell_type": "markdown",
   "metadata": {},
   "source": [
    "HÁZI FELADAT: Back gomb - visszalép egyet (meg kell jegyezni a cellák fejlődésének történetét), de csak az alapállapotig. Lehetséges visszalépni az alapállapot előtti állapotba is?"
   ]
  },
  {
   "cell_type": "markdown",
   "metadata": {},
   "source": [
    "## Timer\n",
    "Avagy hogyan fejlődjenek a sejtjeink maguktól. Ehhez szükségünk lesz egy timerre:"
   ]
  },
  {
   "cell_type": "code",
   "execution_count": null,
   "metadata": {},
   "outputs": [],
   "source": [
    "from PyQt5.QtCore import QRect, Qt, QPoint, QTimer\n",
    "\n",
    "# ...\n",
    "class GameOfLifeWidget(QWidget):\n",
    "\n",
    "    def __init__(self, cells):\n",
    "\n",
    "        # ...\n",
    "\n",
    "        self.paused = True\n",
    "        self.timer = QTimer()\n",
    "        self.timer.timeout.connect(self.stepTimer)\n",
    "        self.timer.start(100)"
   ]
  },
  {
   "cell_type": "markdown",
   "metadata": {},
   "source": [
    "és meg kell mondanunk, hogy mit kell ismételnünk:"
   ]
  },
  {
   "cell_type": "code",
   "execution_count": null,
   "metadata": {},
   "outputs": [],
   "source": [
    "class GameOfLifeWidget(QWidget):\n",
    "\n",
    "    # ...\n",
    "    \n",
    "    def stepTimer(self):\n",
    "        if not self.paused:\n",
    "            self.takeOneStep()\n"
   ]
  },
  {
   "cell_type": "markdown",
   "metadata": {},
   "source": [
    "## Play/Pause gomb\n",
    "hogy bármikor el tudjuk indítani és megállítani az animációnkat."
   ]
  },
  {
   "cell_type": "code",
   "execution_count": null,
   "metadata": {},
   "outputs": [],
   "source": [
    "class GameOfLifeWidget(QWidget):\n",
    "    def __init__(self, cells):\n",
    "\n",
    "        # ...\n",
    "\n",
    "        self.playbutton = QPushButton('Play', self)\n",
    "        self.playbutton.clicked.connect(self.clickedPlay)\n",
    "        self.playbutton.resize(100, 50)\n",
    "        self.playbutton.move(200, 0)\n"
   ]
  },
  {
   "cell_type": "markdown",
   "metadata": {},
   "source": [
    "Ha még nem történik evolúció, akkor el kell indítanunk.\n",
    "\n",
    "Ha már történik evolúció, akkor meg kell állítanunk."
   ]
  },
  {
   "cell_type": "code",
   "execution_count": null,
   "metadata": {},
   "outputs": [],
   "source": [
    "class GameOfLifeWidget(QWidget):\n",
    "\n",
    "    # ...\n",
    "    \n",
    "    def clickedPlay(self):\n",
    "        if self.paused:\n",
    "            self.paused = False\n",
    "            self.playbutton.setText(\"Pause\")\n",
    "        else:\n",
    "            self.paused = True\n",
    "            self.playbutton.setText(\"Play\")\n"
   ]
  },
  {
   "cell_type": "markdown",
   "metadata": {},
   "source": [
    "HÁZI FELADAT: Kigenerálni egy hosszabb lépéssorozatot, és akár visszafelé is le lehessen játszani egy külön gombbal, csúszkával akármelyik pontjára vissza tudjunk lépni az evolúciónak"
   ]
  },
  {
   "cell_type": "markdown",
   "metadata": {},
   "source": [
    "## Egérkattintás\n",
    "Ahhoz, hogy hozzá tudjunk adni sejteket, és el tudjunk venni, muszáj valahogy érzékelnünk, hol történt kattintás:"
   ]
  },
  {
   "cell_type": "code",
   "execution_count": null,
   "metadata": {},
   "outputs": [],
   "source": [
    "class GameOfLifeWidget(QWidget):\n",
    "\n",
    "    # ...\n",
    "    \n",
    "    def mousePressEvent(self, event):\n",
    "        posx = int(event.x() / 20)\n",
    "        posy = int(event.y() / 20)\n",
    "        if (posx, posy) in self.cells:\n",
    "            index = self.cells.index((posx, posy))\n",
    "            del self.cells[index]\n",
    "        else:\n",
    "            self.cells.append((posx, posy))\n",
    "        self.update()"
   ]
  },
  {
   "cell_type": "markdown",
   "metadata": {},
   "source": []
  }
 ],
 "metadata": {
  "kernelspec": {
   "display_name": "Python 3",
   "language": "python",
   "name": "python3"
  },
  "language_info": {
   "codemirror_mode": {
    "name": "ipython",
    "version": 3
   },
   "file_extension": ".py",
   "mimetype": "text/x-python",
   "name": "python",
   "nbconvert_exporter": "python",
   "pygments_lexer": "ipython3",
   "version": "3.7.0"
  }
 },
 "nbformat": 4,
 "nbformat_minor": 2
}
