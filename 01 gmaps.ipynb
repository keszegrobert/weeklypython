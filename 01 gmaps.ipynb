{
 "cells": [
  {
   "cell_type": "markdown",
   "metadata": {},
   "source": [
    "## 1. feladat\n",
    "\n",
    "Google maps-en jelöljük ki a 29-es busz útvonalát!\n",
    "\n",
    "Adatok: https://bkk.hu/apps/gtfs/"
   ]
  },
  {
   "cell_type": "code",
   "execution_count": 1,
   "metadata": {
    "collapsed": true
   },
   "outputs": [],
   "source": [
    "import sys\n",
    "import zipfile\n",
    "path_to_zip_file = \"budapest_gtfs (1).zip\"\n",
    "directory_to_extract_to = './data'\n",
    "zip_ref = zipfile.ZipFile(path_to_zip_file, 'r')\n",
    "zip_ref.extractall(directory_to_extract_to)\n",
    "zip_ref.close()"
   ]
  },
  {
   "cell_type": "code",
   "execution_count": 2,
   "metadata": {},
   "outputs": [
    {
     "name": "stdout",
     "output_type": "stream",
     "text": [
      "total 488656\r\n",
      "drwxr-xr-x  11 macair  staff        352 Sep 27 06:03 \u001b[34m.\u001b[m\u001b[m\r\n",
      "drwxr-xr-x  11 macair  staff        352 Sep 30 13:59 \u001b[34m..\u001b[m\u001b[m\r\n",
      "-rw-r--r--   1 macair  staff        135 Sep 30 13:59 agency.txt\r\n",
      "-rw-r--r--   1 macair  staff     238588 Sep 30 13:59 calendar_dates.txt\r\n",
      "-rw-r--r--   1 macair  staff        176 Sep 30 13:59 feed_info.txt\r\n",
      "-rw-r--r--   1 macair  staff      22885 Sep 30 13:59 pathways.txt\r\n",
      "-rw-r--r--   1 macair  staff      28056 Sep 30 13:59 routes.txt\r\n",
      "-rw-r--r--   1 macair  staff   13220475 Sep 30 13:59 shapes.txt\r\n",
      "-rw-r--r--   1 macair  staff  217061871 Sep 30 13:59 stop_times.txt\r\n",
      "-rw-r--r--   1 macair  staff     326826 Sep 30 13:59 stops.txt\r\n",
      "-rw-r--r--   1 macair  staff   19272508 Sep 30 13:59 trips.txt\r\n"
     ]
    }
   ],
   "source": [
    "!ls -al ./data"
   ]
  },
  {
   "cell_type": "code",
   "execution_count": 28,
   "metadata": {},
   "outputs": [
    {
     "name": "stdout",
     "output_type": "stream",
     "text": [
      "./data/agency.txt\n",
      "('Header:', 'agency_id,agency_name,agency_url,agency_timezone,agency_lang,agency_phone')\n",
      "('Sample:', 'BKK,BKK,http://www.bkk.hu,Europe/Budapest,hu,+36 1 3 255 255')\n",
      "\n",
      "./data/calendar_dates.txt\n",
      "('Header:', 'service_id,date,exception_type')\n",
      "('Sample:', 'B05716AHPKP-0011,20180828,1')\n",
      "\n",
      "./data/stop_times.txt\n",
      "('Header:', 'trip_id,stop_id,arrival_time,departure_time,stop_sequence,stop_headsign,pickup_type,drop_off_type,shape_dist_traveled')\n",
      "('Sample:', 'B0571610,F04181,08:03:00,08:03:00,0,,,,0.0')\n",
      "\n",
      "./data/shapes.txt\n",
      "('Header:', 'shape_id,shape_pt_sequence,shape_pt_lat,shape_pt_lon,shape_dist_traveled')\n",
      "('Sample:', '0803,100001,47.559670,19.082379,0.0')\n",
      "\n",
      "./data/trips.txt\n",
      "('Header:', 'route_id,trip_id,service_id,trip_headsign,direction_id,block_id,shape_id,wheelchair_accessible,bikes_allowed,boarding_door')\n",
      "('Sample:', '8140,B0571610,B05716AHPKP-0011,\"Soroks\\xc3\\xa1r, Moln\\xc3\\xa1r-sziget\",0,B05716AHPKP-0011_1,Y701,1,1,2')\n",
      "\n",
      "./data/feed_info.txt\n",
      "('Header:', 'feed_publisher_name,feed_publisher_url,feed_lang,feed_start_date,feed_end_date,feed_version,feed_ext_version')\n",
      "('Sample:', 'BKK Zrt.,http://www.bkk.hu,hu,20180829,20181001,L1187-20180829,153')\n",
      "\n",
      "./data/pathways.txt\n",
      "('Header:', 'pathway_id,pathway_type,from_stop_id,to_stop_id,traversal_time,wheelchair_traversal_time')\n",
      "('Sample:', 'LM4KF1-LM4KFA,3,LM4KF1,LM4KFA,30,-1')\n",
      "\n",
      "./data/stops.txt\n",
      "('Header:', 'stop_id,stop_name,stop_lat,stop_lon,stop_code,location_type,parent_station,wheelchair_boarding,stop_direction')\n",
      "('Sample:', '002133,\"\\xc3\\x96rs vez\\xc3\\xa9r tere M+H, d\\xc3\\xa9li t\\xc3\\xa1rol\\xc3\\xb3t\\xc3\\xa9r\",47.500366,19.135700,,,,2,')\n",
      "\n",
      "./data/routes.txt\n",
      "('Header:', 'agency_id,route_id,route_short_name,route_long_name,route_type,route_desc,route_color,route_text_color')\n",
      "('Sample:', 'BKK,0050,5,,3,\"Pasar\\xc3\\xa9ti t\\xc3\\xa9r / R\\xc3\\xa1kospalota, Kossuth utca\",009FE3,FFFFFF')\n",
      "\n"
     ]
    }
   ],
   "source": [
    "import json\n",
    "import os\n",
    "\n",
    "for fname in os.listdir(\"./data\"):\n",
    "    filename = './data/'+fname\n",
    "    with open(filename) as f:\n",
    "        print(filename)\n",
    "        print(\"Header:\",f.readline().strip())\n",
    "        print(\"Sample:\",f.readline().strip())\n",
    "        print(\"\")"
   ]
  },
  {
   "cell_type": "markdown",
   "metadata": {},
   "source": [
    "### Beolvasás\n",
    "\n",
    "A csv modul DictReader-ével tudunk soronként végigmenni a csv fájlokon, \n",
    "és dictionary-ként kezelni az egyes sorokat:"
   ]
  },
  {
   "cell_type": "code",
   "execution_count": 6,
   "metadata": {},
   "outputs": [
    {
     "name": "stdout",
     "output_type": "stream",
     "text": [
      "{'agency_phone': '+36 1 3 255 255', 'agency_url': 'http://www.bkk.hu', 'agency_id': 'BKK', 'agency_name': 'BKK', 'agency_timezone': 'Europe/Budapest', 'agency_lang': 'hu'}\n"
     ]
    }
   ],
   "source": [
    "import csv\n",
    "with open('./data/agency.txt') as f:\n",
    "    csvreader = csv.DictReader(f, delimiter=',', quotechar='\"')\n",
    "    for row in csvreader:\n",
    "        print(row)"
   ]
  },
  {
   "cell_type": "markdown",
   "metadata": {},
   "source": [
    "## Ábrázolás a térképen\n",
    "\n",
    "gmaps nem működött megbízhatóan, \n",
    "vmi más megoldást kellett keresni:\n",
    "\n",
    "https://ipyleaflet.readthedocs.io/en/latest/\n",
    "\n",
    "Telepítés:\n",
    "\n",
    "```\n",
    "pip install ipyleaflet\n",
    "jupyter nbextension enable --py --sys-prefix ipyleaflet\n",
    "```"
   ]
  },
  {
   "cell_type": "code",
   "execution_count": 25,
   "metadata": {
    "scrolled": false
   },
   "outputs": [
    {
     "data": {
      "application/vnd.jupyter.widget-view+json": {
       "model_id": "15c112cd8d6647cd841aa140ea4c5d62",
       "version_major": 2,
       "version_minor": 0
      },
      "text/plain": [
       "A Jupyter Widget"
      ]
     },
     "metadata": {},
     "output_type": "display_data"
    }
   ],
   "source": [
    "from ipyleaflet import Marker\n",
    "from ipyleaflet import Map\n",
    "\n",
    "m = Map(center=center, zoom=12)\n",
    "for bus_stop in bus_stops:\n",
    "    marker = Marker(location=bus_stop[\"location\"], draggable=False)\n",
    "    m.add_layer(marker);\n",
    "\n",
    "m = get_map_with_markers(bus_stops)\n",
    "m"
   ]
  },
  {
   "cell_type": "code",
   "execution_count": null,
   "metadata": {
    "collapsed": true
   },
   "outputs": [],
   "source": []
  }
 ],
 "metadata": {
  "kernelspec": {
   "display_name": "Python 3",
   "language": "python",
   "name": "python3"
  },
  "language_info": {
   "codemirror_mode": {
    "name": "ipython",
    "version": 2
   },
   "file_extension": ".py",
   "mimetype": "text/x-python",
   "name": "python",
   "nbconvert_exporter": "python",
   "pygments_lexer": "ipython2",
   "version": "2.7.14"
  }
 },
 "nbformat": 4,
 "nbformat_minor": 2
}
