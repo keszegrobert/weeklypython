{
 "cells": [
  {
   "cell_type": "markdown",
   "metadata": {},
   "source": [
    "## 1. feladat\n",
    "\n",
    "Google maps-en jelöljük ki a 29-es busz útvonalát!\n",
    "\n",
    "Adatok: https://bkk.hu/apps/gtfs/\n",
    "\n",
    "Google maps jupyter alatt: https://github.com/pbugnion/gmaps\n",
    "\n",
    "Activation key: https://console.cloud.google.com/apis/credentials\n",
    "\n",
    "Plotly: https://plot.ly/python/ipython-notebook-tutorial/#plotting-interactive-maps\n",
    "\n",
    "[Access token](https://www.mapbox.com/account/access-tokens)\n",
    "\n"
   ]
  },
  {
   "cell_type": "code",
   "execution_count": 2,
   "metadata": {},
   "outputs": [],
   "source": [
    "import zipfile\n",
    "path_to_zip_file = \"budapest_gtfs (1).zip\"\n",
    "directory_to_extract_to = './data'\n",
    "zip_ref = zipfile.ZipFile(path_to_zip_file, 'r')\n",
    "zip_ref.extractall(directory_to_extract_to)\n",
    "zip_ref.close()"
   ]
  },
  {
   "cell_type": "code",
   "execution_count": 4,
   "metadata": {},
   "outputs": [
    {
     "name": "stdout",
     "output_type": "stream",
     "text": [
      "total 488656\r\n",
      "drwxr-xr-x  11 macair  staff        352 Sep 27 06:03 \u001b[34m.\u001b[m\u001b[m\r\n",
      "drwxr-xr-x   8 macair  staff        256 Sep 27 16:32 \u001b[34m..\u001b[m\u001b[m\r\n",
      "-rw-r--r--   1 macair  staff        135 Sep 27 16:30 agency.txt\r\n",
      "-rw-r--r--   1 macair  staff     238588 Sep 27 16:30 calendar_dates.txt\r\n",
      "-rw-r--r--   1 macair  staff        176 Sep 27 16:30 feed_info.txt\r\n",
      "-rw-r--r--   1 macair  staff      22885 Sep 27 16:30 pathways.txt\r\n",
      "-rw-r--r--   1 macair  staff      28056 Sep 27 16:30 routes.txt\r\n",
      "-rw-r--r--   1 macair  staff   13220475 Sep 27 16:30 shapes.txt\r\n",
      "-rw-r--r--   1 macair  staff  217061871 Sep 27 16:30 stop_times.txt\r\n",
      "-rw-r--r--   1 macair  staff     326826 Sep 27 16:30 stops.txt\r\n",
      "-rw-r--r--   1 macair  staff   19272508 Sep 27 16:30 trips.txt\r\n"
     ]
    }
   ],
   "source": [
    "!ls -al ./data"
   ]
  },
  {
   "cell_type": "code",
   "execution_count": null,
   "metadata": {},
   "outputs": [],
   "source": [
    "with open(\"data/routes.txt\") as f:\n",
    "    data = f.read()\n",
    "print(data)\n"
   ]
  },
  {
   "cell_type": "code",
   "execution_count": null,
   "metadata": {},
   "outputs": [],
   "source": [
    "import gmaps\n",
    "import gmaps.datasets\n",
    "gmaps.configure(api_key=\"...\") # Your Google API key"
   ]
  },
  {
   "cell_type": "code",
   "execution_count": null,
   "metadata": {},
   "outputs": [],
   "source": [
    "nuclear_power_plants = [\n",
    "    {'name': 'Atucha', 'location': (-34.0, -59.167), 'active_reactors': 1},\n",
    "    {'name': 'Embalse', 'location': (-32.2333, -64.4333), 'active_reactors': 1},\n",
    "    {'name': 'Armenia', 'location': (40.167, 44.133), 'active_reactors': 1},\n",
    "    {'name': 'Br', 'location': (51.217, 5.083), 'active_reactors': 1},\n",
    "    {'name': 'Doel', 'location': (51.333, 4.25), 'active_reactors': 4},\n",
    "    {'name': 'Tihange', 'location': (50.517, 5.283), 'active_reactors': 3}\n",
    "]\n",
    "\n",
    "plant_locations = [plant['location'] for plant in nuclear_power_plants]\n",
    "info_box_template = \"\"\"\n",
    "<dl>\n",
    "<dt>Name</dt><dd>{name}</dd>\n",
    "<dt>Number reactors</dt><dd>{active_reactors}</dd>\n",
    "</dl>\n",
    "\"\"\"\n",
    "plant_info = [info_box_template.format(**plant) for plant in nuclear_power_plants]\n",
    "\n",
    "marker_layer = gmaps.marker_layer(plant_locations, info_box_content=plant_info)\n",
    "fig = gmaps.figure()\n",
    "fig.add_layer(marker_layer)\n",
    "fig"
   ]
  },
  {
   "cell_type": "code",
   "execution_count": null,
   "metadata": {
    "collapsed": true
   },
   "outputs": [],
   "source": []
  }
 ],
 "metadata": {
  "kernelspec": {
   "display_name": "Python 3",
   "language": "python",
   "name": "python3"
  },
  "language_info": {
   "codemirror_mode": {
    "name": "ipython",
    "version": 2
   },
   "file_extension": ".py",
   "mimetype": "text/x-python",
   "name": "python",
   "nbconvert_exporter": "python",
   "pygments_lexer": "ipython2",
   "version": "2.7.14"
  }
 },
 "nbformat": 4,
 "nbformat_minor": 2
}
